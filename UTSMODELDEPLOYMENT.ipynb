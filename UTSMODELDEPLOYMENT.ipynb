{
 "cells": [
  {
   "cell_type": "code",
   "execution_count": 1,
   "metadata": {},
   "outputs": [],
   "source": [
    "import pandas as pd\n",
    "import numpy as np\n",
    "from sklearn.model_selection import train_test_split\n",
    "from sklearn import metrics\n",
    "import matplotlib.pyplot as plt\n",
    "import seaborn as sn\n",
    "from sklearn.metrics import accuracy_score, recall_score, precision_score, f1_score, roc_auc_score, log_loss\n",
    "from sklearn.metrics import classification_report, confusion_matrix"
   ]
  },
  {
   "cell_type": "code",
   "execution_count": 2,
   "metadata": {},
   "outputs": [
    {
     "data": {
      "text/html": [
       "<div>\n",
       "<style scoped>\n",
       "    .dataframe tbody tr th:only-of-type {\n",
       "        vertical-align: middle;\n",
       "    }\n",
       "\n",
       "    .dataframe tbody tr th {\n",
       "        vertical-align: top;\n",
       "    }\n",
       "\n",
       "    .dataframe thead th {\n",
       "        text-align: right;\n",
       "    }\n",
       "</style>\n",
       "<table border=\"1\" class=\"dataframe\">\n",
       "  <thead>\n",
       "    <tr style=\"text-align: right;\">\n",
       "      <th></th>\n",
       "      <th>Unnamed: 0</th>\n",
       "      <th>id</th>\n",
       "      <th>CustomerId</th>\n",
       "      <th>Surname</th>\n",
       "      <th>CreditScore</th>\n",
       "      <th>Geography</th>\n",
       "      <th>Gender</th>\n",
       "      <th>Age</th>\n",
       "      <th>Tenure</th>\n",
       "      <th>Balance</th>\n",
       "      <th>NumOfProducts</th>\n",
       "      <th>HasCrCard</th>\n",
       "      <th>IsActiveMember</th>\n",
       "      <th>EstimatedSalary</th>\n",
       "      <th>churn</th>\n",
       "    </tr>\n",
       "  </thead>\n",
       "  <tbody>\n",
       "    <tr>\n",
       "      <th>0</th>\n",
       "      <td>0</td>\n",
       "      <td>106473</td>\n",
       "      <td>15639576</td>\n",
       "      <td>Sarratt</td>\n",
       "      <td>652.0</td>\n",
       "      <td>France</td>\n",
       "      <td>Female</td>\n",
       "      <td>65.0</td>\n",
       "      <td>3</td>\n",
       "      <td>0.00</td>\n",
       "      <td>2</td>\n",
       "      <td>1</td>\n",
       "      <td>1</td>\n",
       "      <td>136592.24</td>\n",
       "      <td>0</td>\n",
       "    </tr>\n",
       "    <tr>\n",
       "      <th>1</th>\n",
       "      <td>1</td>\n",
       "      <td>62345</td>\n",
       "      <td>15769582</td>\n",
       "      <td>Hanson</td>\n",
       "      <td>464.0</td>\n",
       "      <td>France</td>\n",
       "      <td>Male</td>\n",
       "      <td>35.0</td>\n",
       "      <td>4</td>\n",
       "      <td>0.00</td>\n",
       "      <td>1</td>\n",
       "      <td>0</td>\n",
       "      <td>0</td>\n",
       "      <td>99505.75</td>\n",
       "      <td>1</td>\n",
       "    </tr>\n",
       "    <tr>\n",
       "      <th>2</th>\n",
       "      <td>2</td>\n",
       "      <td>126615</td>\n",
       "      <td>15675888</td>\n",
       "      <td>Austin</td>\n",
       "      <td>620.0</td>\n",
       "      <td>Germany</td>\n",
       "      <td>Female</td>\n",
       "      <td>39.0</td>\n",
       "      <td>6</td>\n",
       "      <td>129401.87</td>\n",
       "      <td>2</td>\n",
       "      <td>1</td>\n",
       "      <td>1</td>\n",
       "      <td>102681.32</td>\n",
       "      <td>1</td>\n",
       "    </tr>\n",
       "    <tr>\n",
       "      <th>3</th>\n",
       "      <td>3</td>\n",
       "      <td>35909</td>\n",
       "      <td>15786617</td>\n",
       "      <td>Tuan</td>\n",
       "      <td>598.0</td>\n",
       "      <td>France</td>\n",
       "      <td>Female</td>\n",
       "      <td>30.0</td>\n",
       "      <td>7</td>\n",
       "      <td>0.00</td>\n",
       "      <td>2</td>\n",
       "      <td>1</td>\n",
       "      <td>0</td>\n",
       "      <td>141210.18</td>\n",
       "      <td>0</td>\n",
       "    </tr>\n",
       "    <tr>\n",
       "      <th>4</th>\n",
       "      <td>4</td>\n",
       "      <td>45175</td>\n",
       "      <td>15757310</td>\n",
       "      <td>Li Fonti</td>\n",
       "      <td>682.0</td>\n",
       "      <td>Germany</td>\n",
       "      <td>Female</td>\n",
       "      <td>46.0</td>\n",
       "      <td>4</td>\n",
       "      <td>107720.57</td>\n",
       "      <td>1</td>\n",
       "      <td>0</td>\n",
       "      <td>0</td>\n",
       "      <td>93832.33</td>\n",
       "      <td>1</td>\n",
       "    </tr>\n",
       "  </tbody>\n",
       "</table>\n",
       "</div>"
      ],
      "text/plain": [
       "   Unnamed: 0      id  CustomerId   Surname  CreditScore Geography  Gender  \\\n",
       "0           0  106473    15639576   Sarratt        652.0    France  Female   \n",
       "1           1   62345    15769582    Hanson        464.0    France    Male   \n",
       "2           2  126615    15675888    Austin        620.0   Germany  Female   \n",
       "3           3   35909    15786617      Tuan        598.0    France  Female   \n",
       "4           4   45175    15757310  Li Fonti        682.0   Germany  Female   \n",
       "\n",
       "    Age  Tenure    Balance  NumOfProducts  HasCrCard  IsActiveMember  \\\n",
       "0  65.0       3       0.00              2          1               1   \n",
       "1  35.0       4       0.00              1          0               0   \n",
       "2  39.0       6  129401.87              2          1               1   \n",
       "3  30.0       7       0.00              2          1               0   \n",
       "4  46.0       4  107720.57              1          0               0   \n",
       "\n",
       "   EstimatedSalary  churn  \n",
       "0        136592.24      0  \n",
       "1         99505.75      1  \n",
       "2        102681.32      1  \n",
       "3        141210.18      0  \n",
       "4         93832.33      1  "
      ]
     },
     "execution_count": 2,
     "metadata": {},
     "output_type": "execute_result"
    }
   ],
   "source": [
    "import pandas as pd\n",
    "\n",
    "df = pd.read_csv('data_D.csv')\n",
    "df.head()"
   ]
  },
  {
   "cell_type": "code",
   "execution_count": 3,
   "metadata": {},
   "outputs": [
    {
     "name": "stdout",
     "output_type": "stream",
     "text": [
      "(41259, 15)\n"
     ]
    }
   ],
   "source": [
    "print(df.shape)"
   ]
  },
  {
   "cell_type": "code",
   "execution_count": 4,
   "metadata": {},
   "outputs": [
    {
     "name": "stdout",
     "output_type": "stream",
     "text": [
      "<class 'pandas.core.frame.DataFrame'>\n",
      "RangeIndex: 41259 entries, 0 to 41258\n",
      "Data columns (total 15 columns):\n",
      " #   Column           Non-Null Count  Dtype  \n",
      "---  ------           --------------  -----  \n",
      " 0   Unnamed: 0       41259 non-null  int64  \n",
      " 1   id               41259 non-null  int64  \n",
      " 2   CustomerId       41259 non-null  int64  \n",
      " 3   Surname          41259 non-null  object \n",
      " 4   CreditScore      41251 non-null  float64\n",
      " 5   Geography        41259 non-null  object \n",
      " 6   Gender           41259 non-null  object \n",
      " 7   Age              41259 non-null  float64\n",
      " 8   Tenure           41259 non-null  int64  \n",
      " 9   Balance          41259 non-null  float64\n",
      " 10  NumOfProducts    41259 non-null  int64  \n",
      " 11  HasCrCard        41259 non-null  int64  \n",
      " 12  IsActiveMember   41259 non-null  int64  \n",
      " 13  EstimatedSalary  41259 non-null  float64\n",
      " 14  churn            41259 non-null  int64  \n",
      "dtypes: float64(4), int64(8), object(3)\n",
      "memory usage: 4.7+ MB\n",
      "None\n"
     ]
    }
   ],
   "source": [
    "print(df.info())"
   ]
  },
  {
   "cell_type": "code",
   "execution_count": 5,
   "metadata": {},
   "outputs": [
    {
     "data": {
      "text/html": [
       "<div>\n",
       "<style scoped>\n",
       "    .dataframe tbody tr th:only-of-type {\n",
       "        vertical-align: middle;\n",
       "    }\n",
       "\n",
       "    .dataframe tbody tr th {\n",
       "        vertical-align: top;\n",
       "    }\n",
       "\n",
       "    .dataframe thead th {\n",
       "        text-align: right;\n",
       "    }\n",
       "</style>\n",
       "<table border=\"1\" class=\"dataframe\">\n",
       "  <thead>\n",
       "    <tr style=\"text-align: right;\">\n",
       "      <th></th>\n",
       "      <th>CreditScore</th>\n",
       "      <th>Geography</th>\n",
       "      <th>Gender</th>\n",
       "      <th>Age</th>\n",
       "      <th>Tenure</th>\n",
       "      <th>Balance</th>\n",
       "      <th>NumOfProducts</th>\n",
       "      <th>HasCrCard</th>\n",
       "      <th>IsActiveMember</th>\n",
       "      <th>EstimatedSalary</th>\n",
       "      <th>churn</th>\n",
       "    </tr>\n",
       "  </thead>\n",
       "  <tbody>\n",
       "    <tr>\n",
       "      <th>0</th>\n",
       "      <td>652.0</td>\n",
       "      <td>France</td>\n",
       "      <td>Female</td>\n",
       "      <td>65.0</td>\n",
       "      <td>3</td>\n",
       "      <td>0.00</td>\n",
       "      <td>2</td>\n",
       "      <td>1</td>\n",
       "      <td>1</td>\n",
       "      <td>136592.24</td>\n",
       "      <td>0</td>\n",
       "    </tr>\n",
       "    <tr>\n",
       "      <th>1</th>\n",
       "      <td>464.0</td>\n",
       "      <td>France</td>\n",
       "      <td>Male</td>\n",
       "      <td>35.0</td>\n",
       "      <td>4</td>\n",
       "      <td>0.00</td>\n",
       "      <td>1</td>\n",
       "      <td>0</td>\n",
       "      <td>0</td>\n",
       "      <td>99505.75</td>\n",
       "      <td>1</td>\n",
       "    </tr>\n",
       "    <tr>\n",
       "      <th>2</th>\n",
       "      <td>620.0</td>\n",
       "      <td>Germany</td>\n",
       "      <td>Female</td>\n",
       "      <td>39.0</td>\n",
       "      <td>6</td>\n",
       "      <td>129401.87</td>\n",
       "      <td>2</td>\n",
       "      <td>1</td>\n",
       "      <td>1</td>\n",
       "      <td>102681.32</td>\n",
       "      <td>1</td>\n",
       "    </tr>\n",
       "    <tr>\n",
       "      <th>3</th>\n",
       "      <td>598.0</td>\n",
       "      <td>France</td>\n",
       "      <td>Female</td>\n",
       "      <td>30.0</td>\n",
       "      <td>7</td>\n",
       "      <td>0.00</td>\n",
       "      <td>2</td>\n",
       "      <td>1</td>\n",
       "      <td>0</td>\n",
       "      <td>141210.18</td>\n",
       "      <td>0</td>\n",
       "    </tr>\n",
       "    <tr>\n",
       "      <th>4</th>\n",
       "      <td>682.0</td>\n",
       "      <td>Germany</td>\n",
       "      <td>Female</td>\n",
       "      <td>46.0</td>\n",
       "      <td>4</td>\n",
       "      <td>107720.57</td>\n",
       "      <td>1</td>\n",
       "      <td>0</td>\n",
       "      <td>0</td>\n",
       "      <td>93832.33</td>\n",
       "      <td>1</td>\n",
       "    </tr>\n",
       "    <tr>\n",
       "      <th>...</th>\n",
       "      <td>...</td>\n",
       "      <td>...</td>\n",
       "      <td>...</td>\n",
       "      <td>...</td>\n",
       "      <td>...</td>\n",
       "      <td>...</td>\n",
       "      <td>...</td>\n",
       "      <td>...</td>\n",
       "      <td>...</td>\n",
       "      <td>...</td>\n",
       "      <td>...</td>\n",
       "    </tr>\n",
       "    <tr>\n",
       "      <th>41254</th>\n",
       "      <td>567.0</td>\n",
       "      <td>France</td>\n",
       "      <td>Female</td>\n",
       "      <td>37.0</td>\n",
       "      <td>1</td>\n",
       "      <td>121801.49</td>\n",
       "      <td>1</td>\n",
       "      <td>0</td>\n",
       "      <td>0</td>\n",
       "      <td>177028.00</td>\n",
       "      <td>0</td>\n",
       "    </tr>\n",
       "    <tr>\n",
       "      <th>41255</th>\n",
       "      <td>584.0</td>\n",
       "      <td>Germany</td>\n",
       "      <td>Female</td>\n",
       "      <td>31.0</td>\n",
       "      <td>4</td>\n",
       "      <td>152622.34</td>\n",
       "      <td>1</td>\n",
       "      <td>1</td>\n",
       "      <td>0</td>\n",
       "      <td>99298.80</td>\n",
       "      <td>0</td>\n",
       "    </tr>\n",
       "    <tr>\n",
       "      <th>41256</th>\n",
       "      <td>684.0</td>\n",
       "      <td>France</td>\n",
       "      <td>Male</td>\n",
       "      <td>36.0</td>\n",
       "      <td>4</td>\n",
       "      <td>0.00</td>\n",
       "      <td>1</td>\n",
       "      <td>1</td>\n",
       "      <td>0</td>\n",
       "      <td>152992.04</td>\n",
       "      <td>0</td>\n",
       "    </tr>\n",
       "    <tr>\n",
       "      <th>41257</th>\n",
       "      <td>709.0</td>\n",
       "      <td>France</td>\n",
       "      <td>Male</td>\n",
       "      <td>38.0</td>\n",
       "      <td>3</td>\n",
       "      <td>0.00</td>\n",
       "      <td>2</td>\n",
       "      <td>1</td>\n",
       "      <td>1</td>\n",
       "      <td>185580.23</td>\n",
       "      <td>0</td>\n",
       "    </tr>\n",
       "    <tr>\n",
       "      <th>41258</th>\n",
       "      <td>850.0</td>\n",
       "      <td>France</td>\n",
       "      <td>Male</td>\n",
       "      <td>43.0</td>\n",
       "      <td>2</td>\n",
       "      <td>0.00</td>\n",
       "      <td>2</td>\n",
       "      <td>1</td>\n",
       "      <td>1</td>\n",
       "      <td>93882.93</td>\n",
       "      <td>0</td>\n",
       "    </tr>\n",
       "  </tbody>\n",
       "</table>\n",
       "<p>41259 rows × 11 columns</p>\n",
       "</div>"
      ],
      "text/plain": [
       "       CreditScore Geography  Gender   Age  Tenure    Balance  NumOfProducts  \\\n",
       "0            652.0    France  Female  65.0       3       0.00              2   \n",
       "1            464.0    France    Male  35.0       4       0.00              1   \n",
       "2            620.0   Germany  Female  39.0       6  129401.87              2   \n",
       "3            598.0    France  Female  30.0       7       0.00              2   \n",
       "4            682.0   Germany  Female  46.0       4  107720.57              1   \n",
       "...            ...       ...     ...   ...     ...        ...            ...   \n",
       "41254        567.0    France  Female  37.0       1  121801.49              1   \n",
       "41255        584.0   Germany  Female  31.0       4  152622.34              1   \n",
       "41256        684.0    France    Male  36.0       4       0.00              1   \n",
       "41257        709.0    France    Male  38.0       3       0.00              2   \n",
       "41258        850.0    France    Male  43.0       2       0.00              2   \n",
       "\n",
       "       HasCrCard  IsActiveMember  EstimatedSalary  churn  \n",
       "0              1               1        136592.24      0  \n",
       "1              0               0         99505.75      1  \n",
       "2              1               1        102681.32      1  \n",
       "3              1               0        141210.18      0  \n",
       "4              0               0         93832.33      1  \n",
       "...          ...             ...              ...    ...  \n",
       "41254          0               0        177028.00      0  \n",
       "41255          1               0         99298.80      0  \n",
       "41256          1               0        152992.04      0  \n",
       "41257          1               1        185580.23      0  \n",
       "41258          1               1         93882.93      0  \n",
       "\n",
       "[41259 rows x 11 columns]"
      ]
     },
     "execution_count": 5,
     "metadata": {},
     "output_type": "execute_result"
    }
   ],
   "source": [
    "df = df.drop(['id', 'CustomerId', 'Surname', 'Unnamed: 0'], axis=1)\n",
    "df"
   ]
  },
  {
   "cell_type": "markdown",
   "metadata": {},
   "source": [
    "# Splitting data"
   ]
  },
  {
   "cell_type": "code",
   "execution_count": 6,
   "metadata": {},
   "outputs": [],
   "source": [
    "df_input = df.drop('churn', axis=1)\n",
    "df_output = df[['churn']]"
   ]
  },
  {
   "cell_type": "code",
   "execution_count": 7,
   "metadata": {},
   "outputs": [],
   "source": [
    "from sklearn.model_selection import train_test_split\n",
    "x_train, x_test, y_train, y_test = train_test_split(df_input, df_output, test_size = 0.2, random_state = 42)"
   ]
  },
  {
   "cell_type": "code",
   "execution_count": 8,
   "metadata": {},
   "outputs": [
    {
     "name": "stdout",
     "output_type": "stream",
     "text": [
      "Missing values per column:\n",
      "CreditScore        8\n",
      "Geography          0\n",
      "Gender             0\n",
      "Age                0\n",
      "Tenure             0\n",
      "Balance            0\n",
      "NumOfProducts      0\n",
      "HasCrCard          0\n",
      "IsActiveMember     0\n",
      "EstimatedSalary    0\n",
      "churn              0\n",
      "dtype: int64\n"
     ]
    }
   ],
   "source": [
    "missing_values = df.isnull().sum()\n",
    "print(\"Missing values per column:\")\n",
    "print(missing_values)"
   ]
  },
  {
   "cell_type": "code",
   "execution_count": 9,
   "metadata": {},
   "outputs": [
    {
     "data": {
      "text/plain": [
       "850.0"
      ]
     },
     "execution_count": 9,
     "metadata": {},
     "output_type": "execute_result"
    }
   ],
   "source": [
    "import statistics\n",
    "statistics.mode(x_train['CreditScore'])"
   ]
  },
  {
   "cell_type": "markdown",
   "metadata": {},
   "source": [
    "# Preprocessing train data"
   ]
  },
  {
   "cell_type": "code",
   "execution_count": 10,
   "metadata": {},
   "outputs": [
    {
     "name": "stdout",
     "output_type": "stream",
     "text": [
      "<class 'pandas.core.frame.DataFrame'>\n",
      "Int64Index: 33007 entries, 23629 to 15795\n",
      "Data columns (total 10 columns):\n",
      " #   Column           Non-Null Count  Dtype  \n",
      "---  ------           --------------  -----  \n",
      " 0   CreditScore      33000 non-null  float64\n",
      " 1   Geography        33007 non-null  object \n",
      " 2   Gender           33007 non-null  object \n",
      " 3   Age              33007 non-null  float64\n",
      " 4   Tenure           33007 non-null  int64  \n",
      " 5   Balance          33007 non-null  float64\n",
      " 6   NumOfProducts    33007 non-null  int64  \n",
      " 7   HasCrCard        33007 non-null  int64  \n",
      " 8   IsActiveMember   33007 non-null  int64  \n",
      " 9   EstimatedSalary  33007 non-null  float64\n",
      "dtypes: float64(4), int64(4), object(2)\n",
      "memory usage: 2.8+ MB\n"
     ]
    }
   ],
   "source": [
    "x_train.info()"
   ]
  },
  {
   "cell_type": "code",
   "execution_count": 11,
   "metadata": {},
   "outputs": [
    {
     "data": {
      "text/plain": [
       "656.3421212121212"
      ]
     },
     "execution_count": 11,
     "metadata": {},
     "output_type": "execute_result"
    }
   ],
   "source": [
    "np.mean(x_train['CreditScore'])"
   ]
  },
  {
   "cell_type": "code",
   "execution_count": 12,
   "metadata": {},
   "outputs": [],
   "source": [
    "#Replace Null numeric value with their Mean for train data\n",
    "x_train['CreditScore'].fillna(656.3, inplace=True)"
   ]
  },
  {
   "cell_type": "code",
   "execution_count": 13,
   "metadata": {},
   "outputs": [],
   "source": [
    "df_encode = {\"Gender\" : {\"Male\" : 1, \"Female\" : 0}, \"Geography\" : {\"France\":1, \"Germany\":2, \"Spain\":3}}\n",
    "x_train = x_train.replace(df_encode)"
   ]
  },
  {
   "cell_type": "code",
   "execution_count": 14,
   "metadata": {},
   "outputs": [
    {
     "data": {
      "text/html": [
       "<div>\n",
       "<style scoped>\n",
       "    .dataframe tbody tr th:only-of-type {\n",
       "        vertical-align: middle;\n",
       "    }\n",
       "\n",
       "    .dataframe tbody tr th {\n",
       "        vertical-align: top;\n",
       "    }\n",
       "\n",
       "    .dataframe thead th {\n",
       "        text-align: right;\n",
       "    }\n",
       "</style>\n",
       "<table border=\"1\" class=\"dataframe\">\n",
       "  <thead>\n",
       "    <tr style=\"text-align: right;\">\n",
       "      <th></th>\n",
       "      <th>CreditScore</th>\n",
       "      <th>Geography</th>\n",
       "      <th>Gender</th>\n",
       "      <th>Age</th>\n",
       "      <th>Tenure</th>\n",
       "      <th>Balance</th>\n",
       "      <th>NumOfProducts</th>\n",
       "      <th>HasCrCard</th>\n",
       "      <th>IsActiveMember</th>\n",
       "      <th>EstimatedSalary</th>\n",
       "    </tr>\n",
       "  </thead>\n",
       "  <tbody>\n",
       "    <tr>\n",
       "      <th>23629</th>\n",
       "      <td>708.0</td>\n",
       "      <td>1</td>\n",
       "      <td>0</td>\n",
       "      <td>45.0</td>\n",
       "      <td>2</td>\n",
       "      <td>0.0</td>\n",
       "      <td>1</td>\n",
       "      <td>1</td>\n",
       "      <td>0</td>\n",
       "      <td>182076.97</td>\n",
       "    </tr>\n",
       "    <tr>\n",
       "      <th>6996</th>\n",
       "      <td>676.0</td>\n",
       "      <td>3</td>\n",
       "      <td>1</td>\n",
       "      <td>35.0</td>\n",
       "      <td>7</td>\n",
       "      <td>0.0</td>\n",
       "      <td>2</td>\n",
       "      <td>1</td>\n",
       "      <td>0</td>\n",
       "      <td>166053.92</td>\n",
       "    </tr>\n",
       "    <tr>\n",
       "      <th>26510</th>\n",
       "      <td>645.0</td>\n",
       "      <td>1</td>\n",
       "      <td>0</td>\n",
       "      <td>36.0</td>\n",
       "      <td>4</td>\n",
       "      <td>133980.8</td>\n",
       "      <td>1</td>\n",
       "      <td>1</td>\n",
       "      <td>1</td>\n",
       "      <td>112333.63</td>\n",
       "    </tr>\n",
       "    <tr>\n",
       "      <th>40020</th>\n",
       "      <td>791.0</td>\n",
       "      <td>3</td>\n",
       "      <td>1</td>\n",
       "      <td>37.0</td>\n",
       "      <td>1</td>\n",
       "      <td>0.0</td>\n",
       "      <td>2</td>\n",
       "      <td>1</td>\n",
       "      <td>0</td>\n",
       "      <td>132973.17</td>\n",
       "    </tr>\n",
       "    <tr>\n",
       "      <th>17668</th>\n",
       "      <td>637.0</td>\n",
       "      <td>1</td>\n",
       "      <td>0</td>\n",
       "      <td>48.0</td>\n",
       "      <td>7</td>\n",
       "      <td>0.0</td>\n",
       "      <td>2</td>\n",
       "      <td>1</td>\n",
       "      <td>1</td>\n",
       "      <td>146573.66</td>\n",
       "    </tr>\n",
       "  </tbody>\n",
       "</table>\n",
       "</div>"
      ],
      "text/plain": [
       "       CreditScore  Geography  Gender   Age  Tenure   Balance  NumOfProducts  \\\n",
       "23629        708.0          1       0  45.0       2       0.0              1   \n",
       "6996         676.0          3       1  35.0       7       0.0              2   \n",
       "26510        645.0          1       0  36.0       4  133980.8              1   \n",
       "40020        791.0          3       1  37.0       1       0.0              2   \n",
       "17668        637.0          1       0  48.0       7       0.0              2   \n",
       "\n",
       "       HasCrCard  IsActiveMember  EstimatedSalary  \n",
       "23629          1               0        182076.97  \n",
       "6996           1               0        166053.92  \n",
       "26510          1               1        112333.63  \n",
       "40020          1               0        132973.17  \n",
       "17668          1               1        146573.66  "
      ]
     },
     "execution_count": 14,
     "metadata": {},
     "output_type": "execute_result"
    }
   ],
   "source": [
    "x_train.head()"
   ]
  },
  {
   "cell_type": "markdown",
   "metadata": {},
   "source": [
    "# Preprocessing testing data"
   ]
  },
  {
   "cell_type": "code",
   "execution_count": 15,
   "metadata": {},
   "outputs": [
    {
     "name": "stdout",
     "output_type": "stream",
     "text": [
      "<class 'pandas.core.frame.DataFrame'>\n",
      "Int64Index: 8252 entries, 37555 to 28662\n",
      "Data columns (total 10 columns):\n",
      " #   Column           Non-Null Count  Dtype  \n",
      "---  ------           --------------  -----  \n",
      " 0   CreditScore      8251 non-null   float64\n",
      " 1   Geography        8252 non-null   object \n",
      " 2   Gender           8252 non-null   object \n",
      " 3   Age              8252 non-null   float64\n",
      " 4   Tenure           8252 non-null   int64  \n",
      " 5   Balance          8252 non-null   float64\n",
      " 6   NumOfProducts    8252 non-null   int64  \n",
      " 7   HasCrCard        8252 non-null   int64  \n",
      " 8   IsActiveMember   8252 non-null   int64  \n",
      " 9   EstimatedSalary  8252 non-null   float64\n",
      "dtypes: float64(4), int64(4), object(2)\n",
      "memory usage: 709.2+ KB\n"
     ]
    }
   ],
   "source": [
    "x_test.info()"
   ]
  },
  {
   "cell_type": "code",
   "execution_count": 16,
   "metadata": {},
   "outputs": [
    {
     "data": {
      "text/plain": [
       "656.0252090655678"
      ]
     },
     "execution_count": 16,
     "metadata": {},
     "output_type": "execute_result"
    }
   ],
   "source": [
    "np.mean(x_test['CreditScore'])"
   ]
  },
  {
   "cell_type": "code",
   "execution_count": 17,
   "metadata": {},
   "outputs": [],
   "source": [
    "#Replace Null numeric value with their Mean for test data\n",
    "x_test['CreditScore'].fillna(656.0, inplace=True)"
   ]
  },
  {
   "cell_type": "code",
   "execution_count": 18,
   "metadata": {},
   "outputs": [],
   "source": [
    "df_encode = {\"Gender\" : {\"Male\" : 1, \"Female\" : 0}, \"Geography\" : {\"France\":0, \"Germany\":1, \"Spain\":2}}\n",
    "x_test = x_test.replace(df_encode)"
   ]
  },
  {
   "cell_type": "code",
   "execution_count": 19,
   "metadata": {},
   "outputs": [
    {
     "data": {
      "text/html": [
       "<div>\n",
       "<style scoped>\n",
       "    .dataframe tbody tr th:only-of-type {\n",
       "        vertical-align: middle;\n",
       "    }\n",
       "\n",
       "    .dataframe tbody tr th {\n",
       "        vertical-align: top;\n",
       "    }\n",
       "\n",
       "    .dataframe thead th {\n",
       "        text-align: right;\n",
       "    }\n",
       "</style>\n",
       "<table border=\"1\" class=\"dataframe\">\n",
       "  <thead>\n",
       "    <tr style=\"text-align: right;\">\n",
       "      <th></th>\n",
       "      <th>CreditScore</th>\n",
       "      <th>Geography</th>\n",
       "      <th>Gender</th>\n",
       "      <th>Age</th>\n",
       "      <th>Tenure</th>\n",
       "      <th>Balance</th>\n",
       "      <th>NumOfProducts</th>\n",
       "      <th>HasCrCard</th>\n",
       "      <th>IsActiveMember</th>\n",
       "      <th>EstimatedSalary</th>\n",
       "    </tr>\n",
       "  </thead>\n",
       "  <tbody>\n",
       "    <tr>\n",
       "      <th>37555</th>\n",
       "      <td>680.0</td>\n",
       "      <td>2</td>\n",
       "      <td>0</td>\n",
       "      <td>32.0</td>\n",
       "      <td>2</td>\n",
       "      <td>0.00</td>\n",
       "      <td>2</td>\n",
       "      <td>0</td>\n",
       "      <td>1</td>\n",
       "      <td>38614.69</td>\n",
       "    </tr>\n",
       "    <tr>\n",
       "      <th>4280</th>\n",
       "      <td>605.0</td>\n",
       "      <td>0</td>\n",
       "      <td>1</td>\n",
       "      <td>32.0</td>\n",
       "      <td>3</td>\n",
       "      <td>0.00</td>\n",
       "      <td>2</td>\n",
       "      <td>1</td>\n",
       "      <td>0</td>\n",
       "      <td>138051.19</td>\n",
       "    </tr>\n",
       "    <tr>\n",
       "      <th>36838</th>\n",
       "      <td>826.0</td>\n",
       "      <td>1</td>\n",
       "      <td>0</td>\n",
       "      <td>39.0</td>\n",
       "      <td>8</td>\n",
       "      <td>113905.48</td>\n",
       "      <td>2</td>\n",
       "      <td>0</td>\n",
       "      <td>1</td>\n",
       "      <td>174043.40</td>\n",
       "    </tr>\n",
       "    <tr>\n",
       "      <th>39035</th>\n",
       "      <td>697.0</td>\n",
       "      <td>2</td>\n",
       "      <td>1</td>\n",
       "      <td>44.0</td>\n",
       "      <td>3</td>\n",
       "      <td>0.00</td>\n",
       "      <td>1</td>\n",
       "      <td>1</td>\n",
       "      <td>1</td>\n",
       "      <td>143357.07</td>\n",
       "    </tr>\n",
       "    <tr>\n",
       "      <th>22201</th>\n",
       "      <td>550.0</td>\n",
       "      <td>1</td>\n",
       "      <td>0</td>\n",
       "      <td>56.0</td>\n",
       "      <td>2</td>\n",
       "      <td>103391.38</td>\n",
       "      <td>1</td>\n",
       "      <td>1</td>\n",
       "      <td>0</td>\n",
       "      <td>90878.13</td>\n",
       "    </tr>\n",
       "  </tbody>\n",
       "</table>\n",
       "</div>"
      ],
      "text/plain": [
       "       CreditScore  Geography  Gender   Age  Tenure    Balance  NumOfProducts  \\\n",
       "37555        680.0          2       0  32.0       2       0.00              2   \n",
       "4280         605.0          0       1  32.0       3       0.00              2   \n",
       "36838        826.0          1       0  39.0       8  113905.48              2   \n",
       "39035        697.0          2       1  44.0       3       0.00              1   \n",
       "22201        550.0          1       0  56.0       2  103391.38              1   \n",
       "\n",
       "       HasCrCard  IsActiveMember  EstimatedSalary  \n",
       "37555          0               1         38614.69  \n",
       "4280           1               0        138051.19  \n",
       "36838          0               1        174043.40  \n",
       "39035          1               1        143357.07  \n",
       "22201          1               0         90878.13  "
      ]
     },
     "execution_count": 19,
     "metadata": {},
     "output_type": "execute_result"
    }
   ],
   "source": [
    "x_test.head()"
   ]
  },
  {
   "cell_type": "markdown",
   "metadata": {},
   "source": [
    "# XGBoost"
   ]
  },
  {
   "cell_type": "code",
   "execution_count": 20,
   "metadata": {},
   "outputs": [
    {
     "data": {
      "text/plain": [
       "XGBClassifier(base_score=None, booster=None, callbacks=None,\n",
       "              colsample_bylevel=None, colsample_bynode=None,\n",
       "              colsample_bytree=None, device=None, early_stopping_rounds=None,\n",
       "              enable_categorical=False, eval_metric=None, feature_types=None,\n",
       "              gamma=None, grow_policy=None, importance_type=None,\n",
       "              interaction_constraints=None, learning_rate=None, max_bin=None,\n",
       "              max_cat_threshold=None, max_cat_to_onehot=None,\n",
       "              max_delta_step=None, max_depth=None, max_leaves=None,\n",
       "              min_child_weight=None, missing=nan, monotone_constraints=None,\n",
       "              multi_strategy=None, n_estimators=None, n_jobs=None,\n",
       "              num_parallel_tree=None, random_state=None, ...)"
      ]
     },
     "execution_count": 20,
     "metadata": {},
     "output_type": "execute_result"
    }
   ],
   "source": [
    "from xgboost import XGBClassifier\n",
    "import warnings\n",
    "warnings.filterwarnings('ignore')\n",
    "\n",
    "XGBclass = XGBClassifier()\n",
    "XGBclass.fit(x_train, y_train)\n"
   ]
  },
  {
   "cell_type": "code",
   "execution_count": 21,
   "metadata": {},
   "outputs": [],
   "source": [
    "y_predict=XGBclass.predict(x_test)"
   ]
  },
  {
   "cell_type": "code",
   "execution_count": 22,
   "metadata": {},
   "outputs": [
    {
     "name": "stdout",
     "output_type": "stream",
     "text": [
      "Classification report : 0.8441589917595734\n",
      "AUC = 0.7035889736870754\n",
      "              precision    recall  f1-score   support\n",
      "\n",
      "           0       0.87      0.95      0.91      6513\n",
      "           1       0.70      0.46      0.55      1739\n",
      "\n",
      "    accuracy                           0.84      8252\n",
      "   macro avg       0.78      0.70      0.73      8252\n",
      "weighted avg       0.83      0.84      0.83      8252\n",
      "\n"
     ]
    }
   ],
   "source": [
    "from sklearn.metrics import classification_report\n",
    "from sklearn.metrics import classification_report\n",
    "print(f'Classification report : {metrics.accuracy_score(y_test, y_predict)}')\n",
    "print(f'AUC = {metrics.roc_auc_score(y_test, y_predict)}')\n",
    "print(classification_report(y_test, y_predict, target_names=['0', '1']))"
   ]
  },
  {
   "cell_type": "markdown",
   "metadata": {},
   "source": [
    "# Random forest"
   ]
  },
  {
   "cell_type": "code",
   "execution_count": 23,
   "metadata": {},
   "outputs": [
    {
     "data": {
      "text/plain": [
       "RandomForestClassifier(max_depth=4)"
      ]
     },
     "execution_count": 23,
     "metadata": {},
     "output_type": "execute_result"
    }
   ],
   "source": [
    "from sklearn.ensemble import RandomForestClassifier\n",
    "import warnings\n",
    "warnings.filterwarnings('ignore')\n",
    "\n",
    "RFclass = RandomForestClassifier(criterion= 'gini',max_depth=4)\n",
    "RFclass.fit(x_train, y_train)"
   ]
  },
  {
   "cell_type": "code",
   "execution_count": 24,
   "metadata": {},
   "outputs": [],
   "source": [
    "y_predict=RFclass.predict(x_test)"
   ]
  },
  {
   "cell_type": "code",
   "execution_count": 25,
   "metadata": {},
   "outputs": [
    {
     "name": "stdout",
     "output_type": "stream",
     "text": [
      "Classification report : 0.8402811439650993\n",
      "AUC = 0.6507626141974466\n",
      "              precision    recall  f1-score   support\n",
      "\n",
      "           0       0.84      0.98      0.91      6513\n",
      "           1       0.80      0.32      0.46      1739\n",
      "\n",
      "    accuracy                           0.84      8252\n",
      "   macro avg       0.82      0.65      0.68      8252\n",
      "weighted avg       0.83      0.84      0.81      8252\n",
      "\n"
     ]
    }
   ],
   "source": [
    "from sklearn.metrics import classification_report\n",
    "from sklearn.metrics import classification_report\n",
    "print(f'Classification report : {metrics.accuracy_score(y_test, y_predict)}')\n",
    "print(f'AUC = {metrics.roc_auc_score(y_test, y_predict)}')\n",
    "print(classification_report(y_test, y_predict, target_names=['0', '1']))\n"
   ]
  },
  {
   "cell_type": "code",
   "execution_count": 28,
   "metadata": {},
   "outputs": [],
   "source": [
    "from sklearn.model_selection import GridSearchCV\n",
    "parameters = {\n",
    "    'criterion' : ['gini', 'entropy', 'log_loss'],\n",
    "    'max_depth' : [2, 4, 6, 8]\n",
    "}\n",
    "\n",
    "RFclass = RandomForestClassifier()\n",
    "RFclass = GridSearchCV(RFclass, param_grid=parameters, scoring = 'accuracy', cv = 5)"
   ]
  },
  {
   "cell_type": "code",
   "execution_count": 29,
   "metadata": {},
   "outputs": [
    {
     "name": "stdout",
     "output_type": "stream",
     "text": [
      "Tuned hyperparameters : {'criterion': 'gini', 'max_depth': 8}\n"
     ]
    }
   ],
   "source": [
    "RFclass.fit(x_train, y_train)\n",
    "print(\"Tuned hyperparameters :\", RFclass.best_params_)"
   ]
  },
  {
   "cell_type": "code",
   "execution_count": 30,
   "metadata": {},
   "outputs": [
    {
     "data": {
      "text/plain": [
       "RandomForestClassifier(max_depth=8)"
      ]
     },
     "execution_count": 30,
     "metadata": {},
     "output_type": "execute_result"
    }
   ],
   "source": [
    "from sklearn.ensemble import RandomForestClassifier\n",
    "import warnings\n",
    "warnings.filterwarnings('ignore')\n",
    "\n",
    "RFclass = RandomForestClassifier(criterion= 'gini',max_depth=8)\n",
    "RFclass.fit(x_train, y_train)"
   ]
  },
  {
   "cell_type": "code",
   "execution_count": 31,
   "metadata": {},
   "outputs": [],
   "source": [
    "y_predict=RFclass.predict(x_test)"
   ]
  },
  {
   "cell_type": "code",
   "execution_count": 33,
   "metadata": {},
   "outputs": [],
   "source": [
    "import pickle as pkl\n",
    "filename = 'RFclass.pkl'\n",
    "pkl.dump(RFclass, open(filename, 'wb'))"
   ]
  },
  {
   "cell_type": "code",
   "execution_count": 34,
   "metadata": {},
   "outputs": [
    {
     "name": "stdout",
     "output_type": "stream",
     "text": [
      "Classification report : 0.851672321861367\n",
      "AUC = 0.6946498033260678\n",
      "              precision    recall  f1-score   support\n",
      "\n",
      "           0       0.86      0.97      0.91      6513\n",
      "           1       0.77      0.42      0.55      1739\n",
      "\n",
      "    accuracy                           0.85      8252\n",
      "   macro avg       0.82      0.69      0.73      8252\n",
      "weighted avg       0.84      0.85      0.83      8252\n",
      "\n"
     ]
    }
   ],
   "source": [
    "from sklearn.metrics import classification_report\n",
    "from sklearn.metrics import classification_report\n",
    "print(f'Classification report : {metrics.accuracy_score(y_test, y_predict)}')\n",
    "print(f'AUC = {metrics.roc_auc_score(y_test, y_predict)}')\n",
    "print(classification_report(y_test, y_predict, target_names=['0', '1']))\n"
   ]
  },
  {
   "cell_type": "code",
   "execution_count": 37,
   "metadata": {},
   "outputs": [
    {
     "data": {
      "text/html": [
       "<div>\n",
       "<style scoped>\n",
       "    .dataframe tbody tr th:only-of-type {\n",
       "        vertical-align: middle;\n",
       "    }\n",
       "\n",
       "    .dataframe tbody tr th {\n",
       "        vertical-align: top;\n",
       "    }\n",
       "\n",
       "    .dataframe thead th {\n",
       "        text-align: right;\n",
       "    }\n",
       "</style>\n",
       "<table border=\"1\" class=\"dataframe\">\n",
       "  <thead>\n",
       "    <tr style=\"text-align: right;\">\n",
       "      <th></th>\n",
       "      <th>CreditScore</th>\n",
       "      <th>Geography</th>\n",
       "      <th>Gender</th>\n",
       "      <th>Age</th>\n",
       "      <th>Tenure</th>\n",
       "      <th>Balance</th>\n",
       "      <th>NumOfProducts</th>\n",
       "      <th>HasCrCard</th>\n",
       "      <th>IsActiveMember</th>\n",
       "      <th>EstimatedSalary</th>\n",
       "    </tr>\n",
       "  </thead>\n",
       "  <tbody>\n",
       "    <tr>\n",
       "      <th>count</th>\n",
       "      <td>33007.000000</td>\n",
       "      <td>33007.000000</td>\n",
       "      <td>33007.000000</td>\n",
       "      <td>33007.000000</td>\n",
       "      <td>33007.000000</td>\n",
       "      <td>33007.000000</td>\n",
       "      <td>33007.000000</td>\n",
       "      <td>33007.000000</td>\n",
       "      <td>33007.000000</td>\n",
       "      <td>33007.000000</td>\n",
       "    </tr>\n",
       "    <tr>\n",
       "      <th>mean</th>\n",
       "      <td>656.342112</td>\n",
       "      <td>1.646832</td>\n",
       "      <td>0.560730</td>\n",
       "      <td>38.057654</td>\n",
       "      <td>4.998909</td>\n",
       "      <td>55736.297630</td>\n",
       "      <td>1.554276</td>\n",
       "      <td>0.753658</td>\n",
       "      <td>0.495622</td>\n",
       "      <td>112222.522280</td>\n",
       "    </tr>\n",
       "    <tr>\n",
       "      <th>std</th>\n",
       "      <td>80.051595</td>\n",
       "      <td>0.816054</td>\n",
       "      <td>0.496306</td>\n",
       "      <td>8.792344</td>\n",
       "      <td>2.797309</td>\n",
       "      <td>62869.964295</td>\n",
       "      <td>0.546302</td>\n",
       "      <td>0.430886</td>\n",
       "      <td>0.499988</td>\n",
       "      <td>50463.153622</td>\n",
       "    </tr>\n",
       "    <tr>\n",
       "      <th>min</th>\n",
       "      <td>350.000000</td>\n",
       "      <td>1.000000</td>\n",
       "      <td>0.000000</td>\n",
       "      <td>18.000000</td>\n",
       "      <td>0.000000</td>\n",
       "      <td>0.000000</td>\n",
       "      <td>1.000000</td>\n",
       "      <td>0.000000</td>\n",
       "      <td>0.000000</td>\n",
       "      <td>11.580000</td>\n",
       "    </tr>\n",
       "    <tr>\n",
       "      <th>25%</th>\n",
       "      <td>597.000000</td>\n",
       "      <td>1.000000</td>\n",
       "      <td>0.000000</td>\n",
       "      <td>32.000000</td>\n",
       "      <td>3.000000</td>\n",
       "      <td>0.000000</td>\n",
       "      <td>1.000000</td>\n",
       "      <td>1.000000</td>\n",
       "      <td>0.000000</td>\n",
       "      <td>74415.220000</td>\n",
       "    </tr>\n",
       "    <tr>\n",
       "      <th>50%</th>\n",
       "      <td>659.000000</td>\n",
       "      <td>1.000000</td>\n",
       "      <td>1.000000</td>\n",
       "      <td>37.000000</td>\n",
       "      <td>5.000000</td>\n",
       "      <td>0.000000</td>\n",
       "      <td>2.000000</td>\n",
       "      <td>1.000000</td>\n",
       "      <td>0.000000</td>\n",
       "      <td>117036.460000</td>\n",
       "    </tr>\n",
       "    <tr>\n",
       "      <th>75%</th>\n",
       "      <td>710.000000</td>\n",
       "      <td>2.000000</td>\n",
       "      <td>1.000000</td>\n",
       "      <td>42.000000</td>\n",
       "      <td>7.000000</td>\n",
       "      <td>120467.045000</td>\n",
       "      <td>2.000000</td>\n",
       "      <td>1.000000</td>\n",
       "      <td>1.000000</td>\n",
       "      <td>154775.700000</td>\n",
       "    </tr>\n",
       "    <tr>\n",
       "      <th>max</th>\n",
       "      <td>850.000000</td>\n",
       "      <td>3.000000</td>\n",
       "      <td>1.000000</td>\n",
       "      <td>92.000000</td>\n",
       "      <td>10.000000</td>\n",
       "      <td>250898.090000</td>\n",
       "      <td>4.000000</td>\n",
       "      <td>1.000000</td>\n",
       "      <td>1.000000</td>\n",
       "      <td>199992.480000</td>\n",
       "    </tr>\n",
       "  </tbody>\n",
       "</table>\n",
       "</div>"
      ],
      "text/plain": [
       "        CreditScore     Geography        Gender           Age        Tenure  \\\n",
       "count  33007.000000  33007.000000  33007.000000  33007.000000  33007.000000   \n",
       "mean     656.342112      1.646832      0.560730     38.057654      4.998909   \n",
       "std       80.051595      0.816054      0.496306      8.792344      2.797309   \n",
       "min      350.000000      1.000000      0.000000     18.000000      0.000000   \n",
       "25%      597.000000      1.000000      0.000000     32.000000      3.000000   \n",
       "50%      659.000000      1.000000      1.000000     37.000000      5.000000   \n",
       "75%      710.000000      2.000000      1.000000     42.000000      7.000000   \n",
       "max      850.000000      3.000000      1.000000     92.000000     10.000000   \n",
       "\n",
       "             Balance  NumOfProducts     HasCrCard  IsActiveMember  \\\n",
       "count   33007.000000   33007.000000  33007.000000    33007.000000   \n",
       "mean    55736.297630       1.554276      0.753658        0.495622   \n",
       "std     62869.964295       0.546302      0.430886        0.499988   \n",
       "min         0.000000       1.000000      0.000000        0.000000   \n",
       "25%         0.000000       1.000000      1.000000        0.000000   \n",
       "50%         0.000000       2.000000      1.000000        0.000000   \n",
       "75%    120467.045000       2.000000      1.000000        1.000000   \n",
       "max    250898.090000       4.000000      1.000000        1.000000   \n",
       "\n",
       "       EstimatedSalary  \n",
       "count     33007.000000  \n",
       "mean     112222.522280  \n",
       "std       50463.153622  \n",
       "min          11.580000  \n",
       "25%       74415.220000  \n",
       "50%      117036.460000  \n",
       "75%      154775.700000  \n",
       "max      199992.480000  "
      ]
     },
     "execution_count": 37,
     "metadata": {},
     "output_type": "execute_result"
    }
   ],
   "source": [
    "x_train.describe()"
   ]
  },
  {
   "cell_type": "code",
   "execution_count": null,
   "metadata": {},
   "outputs": [],
   "source": []
  }
 ],
 "metadata": {
  "kernelspec": {
   "display_name": "base",
   "language": "python",
   "name": "python3"
  },
  "language_info": {
   "codemirror_mode": {
    "name": "ipython",
    "version": 3
   },
   "file_extension": ".py",
   "mimetype": "text/x-python",
   "name": "python",
   "nbconvert_exporter": "python",
   "pygments_lexer": "ipython3",
   "version": "3.9.13"
  }
 },
 "nbformat": 4,
 "nbformat_minor": 2
}
